{
 "cells": [
  {
   "cell_type": "code",
   "execution_count": 9,
   "id": "56cb8b45",
   "metadata": {},
   "outputs": [
    {
     "name": "stdout",
     "output_type": "stream",
     "text": [
      "['WEST']\n"
     ]
    }
   ],
   "source": [
    "a = [\"NORTH\", \"SOUTH\", \"SOUTH\", \"EAST\", \"WEST\", \"NORTH\", \"WEST\"]\n",
    "\n",
    "while a:\n",
    "    count = 0\n",
    "    for index, value in enumerate(a):\n",
    "        if index == 0:\n",
    "            continue\n",
    "        if value == 'NORTH':\n",
    "            if a[index-1] == 'SOUTH':\n",
    "                a.pop(index)\n",
    "                a.pop(index-1)\n",
    "                count = count + 1\n",
    "                continue\n",
    "        if value == 'SOUTH':\n",
    "            if a[index-1] == 'NORTH':\n",
    "                a.pop(index)\n",
    "                a.pop(index-1)\n",
    "                count = count + 1\n",
    "                continue\n",
    "        if value == 'EAST':\n",
    "            if a[index-1] == 'WEST':\n",
    "                a.pop(index)\n",
    "                a.pop(index-1)\n",
    "                count = count + 1\n",
    "                continue\n",
    "        if value == 'WEST':\n",
    "            if a[index-1] == 'EAST':\n",
    "                a.pop(index)\n",
    "                a.pop(index-1)\n",
    "                count = count + 1\n",
    "                continue\n",
    "    if count == 0:\n",
    "        break           \n",
    "print(a)\n",
    "\n",
    "    \n",
    "    "
   ]
  },
  {
   "cell_type": "code",
   "execution_count": null,
   "id": "a417e364",
   "metadata": {},
   "outputs": [],
   "source": []
  }
 ],
 "metadata": {
  "kernelspec": {
   "display_name": "Python 3",
   "language": "python",
   "name": "python3"
  },
  "language_info": {
   "codemirror_mode": {
    "name": "ipython",
    "version": 3
   },
   "file_extension": ".py",
   "mimetype": "text/x-python",
   "name": "python",
   "nbconvert_exporter": "python",
   "pygments_lexer": "ipython3",
   "version": "3.8.8"
  }
 },
 "nbformat": 4,
 "nbformat_minor": 5
}
