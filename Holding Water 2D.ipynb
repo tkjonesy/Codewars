{
 "cells": [
  {
   "cell_type": "code",
   "execution_count": 29,
   "id": "9de1fd0a",
   "metadata": {},
   "outputs": [],
   "source": [
    "import heapq\n",
    "\n",
    "heightMap = [\n",
    "    [3, 3, 3, 3, 3],\n",
    "    [3, 2, 2, 2, 3],\n",
    "    [3, 3, 3, 2, 3],\n",
    "    [3, 1, 1, 1, 3],\n",
    "    [3, 1, 3, 3, 3],\n",
    "    [3, 0, 0, 0, 3],\n",
    "    [3, 3, 3, 0, 3]\n",
    "]\n",
    "\n",
    "\n",
    "m = len(heightMap)\n",
    "\n",
    "n = len(heightMap[0])\n",
    "\n",
    "notice = [[1 for _ in range(n)] for _ in range(m)]\n",
    "minheap = []\n",
    "for i in range(m):\n",
    "    for j in range(n):\n",
    "        if i == 0 or j == 0 or i == m - 1 or j == n - 1:\n",
    "            heapq.heappush(minheap,(heightMap[i][j],i,j))\n",
    "        else:\n",
    "            notice[i][j] = 0\n",
    "\n",
    "dx = [1,0,-1,0]\n",
    "dy = [0,1,0,-1]\n",
    "water = 0\n",
    "while minheap:\n",
    "    curr = heapq.heappop(minheap)\n",
    "    for i in range(4):\n",
    "        newi = curr[1] + dx[i]\n",
    "        newj = curr[2] + dy[i]\n",
    "        if newi < 0 or newi >= m or newj < 0 or newj >= n or notice[newi][newj]:\n",
    "            continue\n",
    "        if heightMap[newi][newj] <= curr[0]:\n",
    "            heapq.heappush(minheap, (curr[0], newi, newj))\n",
    "        else:\n",
    "            heapq.heappush(minheap, (heightMap[newi][newj], newi, newj))\n",
    "        notice[newi][newj] = 1\n",
    "        water += max(0, curr[0] - heightMap[newi][newj])\n",
    "                  \n",
    "        "
   ]
  }
 ],
 "metadata": {
  "kernelspec": {
   "display_name": "Python 3",
   "language": "python",
   "name": "python3"
  },
  "language_info": {
   "codemirror_mode": {
    "name": "ipython",
    "version": 3
   },
   "file_extension": ".py",
   "mimetype": "text/x-python",
   "name": "python",
   "nbconvert_exporter": "python",
   "pygments_lexer": "ipython3",
   "version": "3.8.8"
  }
 },
 "nbformat": 4,
 "nbformat_minor": 5
}
