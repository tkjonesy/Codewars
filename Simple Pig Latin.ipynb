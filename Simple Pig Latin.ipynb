{
 "cells": [
  {
   "cell_type": "code",
   "execution_count": 20,
   "id": "68220188",
   "metadata": {},
   "outputs": [],
   "source": [
    "def pig_it(text):\n",
    "    special = '[@_!#$%^&*()<>?/\\|}{~:]'\n",
    "    latinList = []\n",
    "    textList = text.split()\n",
    "    for word in textList:\n",
    "        if word in special:\n",
    "            latinList.append(word)\n",
    "            continue\n",
    "        latinList.append(word[1:] + word[0] + 'ay')\n",
    "    text = ' '.join(latinList)\n",
    "    return text"
   ]
  }
 ],
 "metadata": {
  "kernelspec": {
   "display_name": "Python 3",
   "language": "python",
   "name": "python3"
  },
  "language_info": {
   "codemirror_mode": {
    "name": "ipython",
    "version": 3
   },
   "file_extension": ".py",
   "mimetype": "text/x-python",
   "name": "python",
   "nbconvert_exporter": "python",
   "pygments_lexer": "ipython3",
   "version": "3.8.8"
  }
 },
 "nbformat": 4,
 "nbformat_minor": 5
}
