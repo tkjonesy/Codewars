{
 "cells": [
  {
   "cell_type": "code",
   "execution_count": 1,
   "id": "100c96b7",
   "metadata": {},
   "outputs": [
    {
     "name": "stdout",
     "output_type": "stream",
     "text": [
      "Provide an integer in seconds and I'll convert it to HH:MM:SS\n",
      "1000\n"
     ]
    },
    {
     "data": {
      "text/plain": [
       "'00:16:40'"
      ]
     },
     "execution_count": 1,
     "metadata": {},
     "output_type": "execute_result"
    }
   ],
   "source": [
    "print(\"Provide an integer in seconds and I'll convert it to HH:MM:SS\")\n",
    "seconds = int(input())\n",
    "\n",
    "\n",
    "def make_readable(seconds):\n",
    "    if seconds == 0:\n",
    "        return('00:00:00')\n",
    "\n",
    "    secondsinHour = 60 * 60\n",
    "    secondsinMinute = 60\n",
    "\n",
    "    hour = seconds // secondsinHour\n",
    "    minute = (seconds - (hour * secondsinHour)) // secondsinMinute\n",
    "    extraseconds = seconds - (hour * secondsinHour) - (minute * secondsinMinute)\n",
    "    timeList = [hour, minute, extraseconds]\n",
    "    readable = f'{hour:02}' +':'+f'{minute:02}'+':'+f'{extraseconds:02}'\n",
    "    \n",
    "    return readable\n",
    "\n",
    "make_readable(seconds)"
   ]
  },
  {
   "cell_type": "code",
   "execution_count": null,
   "id": "e5fb6706",
   "metadata": {},
   "outputs": [],
   "source": []
  }
 ],
 "metadata": {
  "kernelspec": {
   "display_name": "Python 3",
   "language": "python",
   "name": "python3"
  },
  "language_info": {
   "codemirror_mode": {
    "name": "ipython",
    "version": 3
   },
   "file_extension": ".py",
   "mimetype": "text/x-python",
   "name": "python",
   "nbconvert_exporter": "python",
   "pygments_lexer": "ipython3",
   "version": "3.8.8"
  }
 },
 "nbformat": 4,
 "nbformat_minor": 5
}
